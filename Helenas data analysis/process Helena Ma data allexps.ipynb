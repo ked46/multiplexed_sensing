{
 "cells": [
  {
   "cell_type": "markdown",
   "metadata": {},
   "source": [
    "## Code for original data preprocessing from Helena Ma's raw data \n",
    "Run this code to process allexps.csv to create folders for each dataset of each plasmid+inhibitor combination for the antibiotic treated dataset"
   ]
  },
  {
   "cell_type": "code",
   "execution_count": 1,
   "metadata": {},
   "outputs": [],
   "source": [
    "import os\n",
    "# Import basic packages\n",
    "import numpy as np\n",
    "import pandas as pd\n",
    "import matplotlib.pyplot as plt\n",
    "import seaborn as sns\n",
    "\n"
   ]
  },
  {
   "cell_type": "code",
   "execution_count": 2,
   "metadata": {
    "scrolled": true
   },
   "outputs": [],
   "source": [
    "#import full csv file\n",
    "df=pd.read_csv('allexps.csv',dtype={'plasmid_name':object})"
   ]
  },
  {
   "cell_type": "code",
   "execution_count": 3,
   "metadata": {
    "scrolled": true
   },
   "outputs": [
    {
     "name": "stdout",
     "output_type": "stream",
     "text": [
      "Folder 'Data files/Bla_SUL' already exists.\n"
     ]
    }
   ],
   "source": [
    "'''create a dataframe for a specific dataset\n",
    "- run this chunk with different combinations of plasmid and inhibitor for different datasets'''\n",
    "#create mask for the conditions I want\n",
    "plasmid='Bla'\n",
    "inhibitor='SUL'\n",
    "mask=(df['mixed_flag']=='Y')&(df['plasmid_name']==plasmid)&(df['inhibitor_name']==inhibitor)\n",
    "\n",
    "# Create the folder to contain this set of data\n",
    "folder_name=f'Data files/{plasmid}_{inhibitor}'\n",
    "if not os.path.exists(folder_name):\n",
    "    os.makedirs(folder_name)\n",
    "    print(f\"Folder '{folder_name}' created successfully!\")\n",
    "else:\n",
    "    print(f\"Folder '{folder_name}' already exists.\")\n",
    "\n",
    "#create dataframe of only the masked conditions\n",
    "df_int=df[mask]\n",
    "#create dataframe for condition information\n",
    "conditions=df_int.iloc[:,:8].drop_duplicates(ignore_index=True)\n",
    "#create dataframes of timecourses\n",
    "time_vector=None\n",
    "for index, row in conditions.iterrows():\n",
    "    condition_mask=(df_int.iloc[:,:8]==row).all(axis=1)\n",
    "    if time_vector is None:\n",
    "        time_vector=np.array(df_int[condition_mask]['Hours'])\n",
    "        od=np.empty((0,len(time_vector)))\n",
    "        gfp=np.empty((0,len(time_vector)))\n",
    "        bfp=np.empty((0,len(time_vector)))\n",
    "    od=np.vstack((od,np.array(df_int[condition_mask]['OD600'])))\n",
    "    gfp=np.vstack((gfp,np.array(df_int[condition_mask]['GFP'])))\n",
    "    bfp=np.vstack((bfp,np.array(df_int[condition_mask]['BFP'])))\n",
    "#save the time vector and plate reading array files\n",
    "np.save(f'Data files/{plasmid}_{inhibitor}/{plasmid}_{inhibitor}_time.npy',time_vector)\n",
    "np.save(f'Data files/{plasmid}_{inhibitor}/{plasmid}_{inhibitor}_od.npy',od)\n",
    "np.save(f'Data files/{plasmid}_{inhibitor}/{plasmid}_{inhibitor}_gfp.npy',gfp)\n",
    "np.save(f'Data files/{plasmid}_{inhibitor}/{plasmid}_{inhibitor}_bfp.npy',bfp)\n",
    "conditions.to_csv(f'Data files/{plasmid}_{inhibitor}/{plasmid}_{inhibitor}_conditions.csv',index=False)\n",
    "#select od values 0:145 from od600 column transpose and keep concatenating vertically"
   ]
  },
  {
   "cell_type": "code",
   "execution_count": 7,
   "metadata": {},
   "outputs": [],
   "source": [
    "'no need to re-run this - unique_rows already saved to excel'\n",
    "#this code works to create an excel file of the unique conditions from all of Helena's data\n",
    "#create dataframe of just mixed populations\n",
    "mix_df=df[df['mixed_flag']=='Y']\n",
    "#create dataframe of just the unique conditions (eliminating the full time course)\n",
    "unique_rows=mix_df.iloc[:,:8].drop_duplicates()\n",
    "#save the unique conditions to excel for viewing\n",
    "#unique_rows.to_excel('unique_rows.xlsx',index=False)"
   ]
  }
 ],
 "metadata": {
  "kernelspec": {
   "display_name": "base",
   "language": "python",
   "name": "python3"
  },
  "language_info": {
   "codemirror_mode": {
    "name": "ipython",
    "version": 3
   },
   "file_extension": ".py",
   "mimetype": "text/x-python",
   "name": "python",
   "nbconvert_exporter": "python",
   "pygments_lexer": "ipython3",
   "version": "3.12.4"
  }
 },
 "nbformat": 4,
 "nbformat_minor": 4
}
